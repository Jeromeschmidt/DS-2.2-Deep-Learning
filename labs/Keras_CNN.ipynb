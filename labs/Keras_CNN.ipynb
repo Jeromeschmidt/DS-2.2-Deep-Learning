{
  "nbformat": 4,
  "nbformat_minor": 0,
  "metadata": {
    "colab": {
      "name": "Keras_CNN.ipynb",
      "provenance": [],
      "collapsed_sections": [],
      "include_colab_link": true
    },
    "kernelspec": {
      "name": "python3",
      "display_name": "Python 3"
    }
  },
  "cells": [
    {
      "cell_type": "markdown",
      "metadata": {
        "id": "view-in-github",
        "colab_type": "text"
      },
      "source": [
        "<a href=\"https://colab.research.google.com/github/Jeromeschmidt/DS-2.2-Deep-Learning/blob/master/labs/Keras_CNN.ipynb\" target=\"_parent\"><img src=\"https://colab.research.google.com/assets/colab-badge.svg\" alt=\"Open In Colab\"/></a>"
      ]
    },
    {
      "cell_type": "code",
      "metadata": {
        "id": "K6YeJT0u8thg",
        "colab": {
          "base_uri": "https://localhost:8080/"
        },
        "outputId": "39d63579-1b16-483a-f855-5d06f672ba42"
      },
      "source": [
        "from keras.datasets import mnist\n",
        "\n",
        "(X_train, y_train), (X_test, y_test) = mnist.load_data()"
      ],
      "execution_count": 6,
      "outputs": [
        {
          "output_type": "stream",
          "text": [
            "Downloading data from https://storage.googleapis.com/tensorflow/tf-keras-datasets/mnist.npz\n",
            "11493376/11490434 [==============================] - 0s 0us/step\n"
          ],
          "name": "stdout"
        }
      ]
    },
    {
      "cell_type": "code",
      "metadata": {
        "colab": {
          "base_uri": "https://localhost:8080/"
        },
        "id": "KTa1GXup7bH_",
        "outputId": "3ba788d2-86c1-4ca8-8ca0-25c9263c68f2"
      },
      "source": [
        "from keras.utils import to_categorical\n",
        "\n",
        "X_train = X_train.reshape(60000,28,28,1)\n",
        "\n",
        "X_test = X_test.reshape(10000,28,28,1)\n",
        "\n",
        "y_train = to_categorical(y_train)\n",
        "\n",
        "y_test = to_categorical(y_test)\n",
        "\n",
        "y_train[0]"
      ],
      "execution_count": 10,
      "outputs": [
        {
          "output_type": "execute_result",
          "data": {
            "text/plain": [
              "array([0., 0., 0., 0., 0., 1., 0., 0., 0., 0.], dtype=float32)"
            ]
          },
          "metadata": {
            "tags": []
          },
          "execution_count": 10
        }
      ]
    },
    {
      "cell_type": "code",
      "metadata": {
        "id": "cPJ7m7Uy7dKs"
      },
      "source": [
        "from keras.models import Sequential\n",
        "\n",
        "from keras.layers import Dense, Conv2D, Flatten\n",
        "\n",
        "model = Sequential()\n",
        "\n",
        "model.add(Conv2D(64, kernel_size=3, activation='relu', input_shape=(28,28,1)))\n",
        "\n",
        "model.add(Conv2D(32, kernel_size=3, activation='relu'))\n",
        "\n",
        "model.add(Flatten())\n",
        "\n",
        "model.add(Dense(10, activation='softmax'))"
      ],
      "execution_count": 14,
      "outputs": []
    },
    {
      "cell_type": "code",
      "metadata": {
        "id": "oUfeNDyY7fYQ"
      },
      "source": [
        "model.compile(optimizer='adam', loss='categorical_crossentropy', metrics=['accuracy'])"
      ],
      "execution_count": 15,
      "outputs": []
    },
    {
      "cell_type": "code",
      "metadata": {
        "colab": {
          "base_uri": "https://localhost:8080/"
        },
        "id": "KgGZILWt8FFa",
        "outputId": "2b612561-4f44-43af-c541-95682b9b8c96"
      },
      "source": [
        "model.fit(X_train, y_train, validation_data=(X_test, y_test), epochs=3)"
      ],
      "execution_count": 16,
      "outputs": [
        {
          "output_type": "stream",
          "text": [
            "Epoch 1/3\n",
            "1875/1875 [==============================] - 169s 90ms/step - loss: 0.2337 - accuracy: 0.9523 - val_loss: 0.0936 - val_accuracy: 0.9704\n",
            "Epoch 2/3\n",
            "1875/1875 [==============================] - 174s 93ms/step - loss: 0.0702 - accuracy: 0.9789 - val_loss: 0.0759 - val_accuracy: 0.9756\n",
            "Epoch 3/3\n",
            "1875/1875 [==============================] - 169s 90ms/step - loss: 0.0464 - accuracy: 0.9857 - val_loss: 0.1020 - val_accuracy: 0.9734\n"
          ],
          "name": "stdout"
        },
        {
          "output_type": "execute_result",
          "data": {
            "text/plain": [
              "<tensorflow.python.keras.callbacks.History at 0x7eff7b22df28>"
            ]
          },
          "metadata": {
            "tags": []
          },
          "execution_count": 16
        }
      ]
    },
    {
      "cell_type": "code",
      "metadata": {
        "colab": {
          "base_uri": "https://localhost:8080/"
        },
        "id": "QYKvmgLW8HSO",
        "outputId": "42224c7b-bdb3-4b56-90c3-cf072e06e404"
      },
      "source": [
        "model.predict(X_test[:4])\n",
        "\n",
        "y_test[:4]"
      ],
      "execution_count": 17,
      "outputs": [
        {
          "output_type": "execute_result",
          "data": {
            "text/plain": [
              "array([[0., 0., 0., 0., 0., 0., 0., 1., 0., 0.],\n",
              "       [0., 0., 1., 0., 0., 0., 0., 0., 0., 0.],\n",
              "       [0., 1., 0., 0., 0., 0., 0., 0., 0., 0.],\n",
              "       [1., 0., 0., 0., 0., 0., 0., 0., 0., 0.]], dtype=float32)"
            ]
          },
          "metadata": {
            "tags": []
          },
          "execution_count": 17
        }
      ]
    },
    {
      "cell_type": "code",
      "metadata": {
        "id": "BYVK2uKx8JoU"
      },
      "source": [
        ""
      ],
      "execution_count": 17,
      "outputs": []
    },
    {
      "cell_type": "code",
      "metadata": {
        "id": "su_57naM9PnA"
      },
      "source": [
        "import skimage.data\n",
        "\n",
        "img = skimage.data.chelsea()\n",
        "\n",
        "img = skimage.color.rgb2gray(img)"
      ],
      "execution_count": 18,
      "outputs": []
    },
    {
      "cell_type": "code",
      "metadata": {
        "colab": {
          "base_uri": "https://localhost:8080/",
          "height": 232
        },
        "id": "oH39LZkh9QoX",
        "outputId": "2ff103fd-f5c6-40a5-df9a-94940b7f4d3e"
      },
      "source": [
        "l1_filter = numpy.zeros((2,3,3))\n",
        "l1_filter[0, :, :] = numpy.array([[[-1, 0, 1],   \n",
        "                                   [-1, 0, 1],   \n",
        "                                   [-1, 0, 1]]])  \n",
        "l1_filter[1, :, :] = numpy.array([[[1,   1,  1],   \n",
        "                                   [0,   0,  0],   \n",
        "                                   [-1, -1, -1]]])"
      ],
      "execution_count": 19,
      "outputs": [
        {
          "output_type": "error",
          "ename": "NameError",
          "evalue": "ignored",
          "traceback": [
            "\u001b[0;31m---------------------------------------------------------------------------\u001b[0m",
            "\u001b[0;31mNameError\u001b[0m                                 Traceback (most recent call last)",
            "\u001b[0;32m<ipython-input-19-199444d2cd96>\u001b[0m in \u001b[0;36m<module>\u001b[0;34m()\u001b[0m\n\u001b[0;32m----> 1\u001b[0;31m \u001b[0ml1_filter\u001b[0m \u001b[0;34m=\u001b[0m \u001b[0mnumpy\u001b[0m\u001b[0;34m.\u001b[0m\u001b[0mzeros\u001b[0m\u001b[0;34m(\u001b[0m\u001b[0;34m(\u001b[0m\u001b[0;36m2\u001b[0m\u001b[0;34m,\u001b[0m\u001b[0;36m3\u001b[0m\u001b[0;34m,\u001b[0m\u001b[0;36m3\u001b[0m\u001b[0;34m)\u001b[0m\u001b[0;34m)\u001b[0m\u001b[0;34m\u001b[0m\u001b[0;34m\u001b[0m\u001b[0m\n\u001b[0m\u001b[1;32m      2\u001b[0m l1_filter[0, :, :] = numpy.array([[[-1, 0, 1],   \n\u001b[1;32m      3\u001b[0m                                    \u001b[0;34m[\u001b[0m\u001b[0;34m-\u001b[0m\u001b[0;36m1\u001b[0m\u001b[0;34m,\u001b[0m \u001b[0;36m0\u001b[0m\u001b[0;34m,\u001b[0m \u001b[0;36m1\u001b[0m\u001b[0;34m]\u001b[0m\u001b[0;34m,\u001b[0m\u001b[0;34m\u001b[0m\u001b[0;34m\u001b[0m\u001b[0m\n\u001b[1;32m      4\u001b[0m                                    [-1, 0, 1]]])  \n\u001b[1;32m      5\u001b[0m l1_filter[1, :, :] = numpy.array([[[1,   1,  1],   \n",
            "\u001b[0;31mNameError\u001b[0m: name 'numpy' is not defined"
          ]
        }
      ]
    },
    {
      "cell_type": "code",
      "metadata": {
        "id": "6dK3NVi09Syy"
      },
      "source": [
        "l1_feature_map = conv(img, l1_filter)"
      ],
      "execution_count": null,
      "outputs": []
    },
    {
      "cell_type": "code",
      "metadata": {
        "id": "EzOTewj89V1x"
      },
      "source": [
        "def conv(img, conv_filter):  \n",
        "    if len(img.shape) > 2 or len(conv_filter.shape) > 3: \n",
        "    if img.shape[-1] != conv_filter.shape[-1]:  \n",
        "            print(\"Error: Number of channels in both image and filter must match.\")  \n",
        "            sys.exit()  \n",
        "    if conv_filter.shape[1] != conv_filter.shape[2]: \n",
        "        print('Error: Filter must be a square matrix. I.e. number of rows and columns must match.')  \n",
        "        sys.exit()  \n",
        "    if conv_filter.shape[1]%2==0: \n",
        "        print('Error: Filter must have an odd size. I.e. number of rows and columns must be odd.')  \n",
        "        sys.exit()"
      ],
      "execution_count": null,
      "outputs": []
    },
    {
      "cell_type": "code",
      "metadata": {
        "id": "OcujsG4-9YQ9"
      },
      "source": [
        "   feature_maps = numpy.zeros((img.shape[0]-conv_filter.shape[1]+1,   \n",
        "                               img.shape[1]-conv_filter.shape[1]+1,   \n",
        "                               conv_filter.shape[0]))  \n",
        "\n",
        "  for filter_num in range(conv_filter.shape[0]):  \n",
        "       print(\"Filter \", filter_num + 1)  \n",
        "       curr_filter = conv_filter[filter_num, :]\n",
        "       if len(curr_filter.shape) > 2:  \n",
        "           conv_map = conv_(img[:, :, 0], curr_filter[:, :, 0]) \n",
        "           for ch_num in range(1, curr_filter.shape[-1]):\n",
        "               conv_map = conv_map + conv_(img[:, :, ch_num],   \n",
        "                                 curr_filter[:, :, ch_num])  \n",
        "       else: \n",
        "            conv_map = conv_(img, curr_filter)  \n",
        "       feature_maps[:, :, filter_num] = conv_map\n",
        "    return feature_maps"
      ],
      "execution_count": null,
      "outputs": []
    },
    {
      "cell_type": "code",
      "metadata": {
        "id": "e574yLs59cTe"
      },
      "source": [
        "l1_feature_map_relu = relu(l1_feature_map)"
      ],
      "execution_count": null,
      "outputs": []
    },
    {
      "cell_type": "code",
      "metadata": {
        "id": "-ONskvN49em3"
      },
      "source": [
        "def relu(feature_map):  \n",
        "   #Preparing the output of the ReLU activation function.  \n",
        "   relu_out = numpy.zeros(feature_map.shape)  \n",
        "   for map_num in range(feature_map.shape[-1]):  \n",
        "       for r in numpy.arange(0,feature_map.shape[0]):  \n",
        "           for c in numpy.arange(0, feature_map.shape[1]):  \n",
        "               relu_out[r, c, map_num] = numpy.max(feature_map[r, c, map_num], 0)"
      ],
      "execution_count": null,
      "outputs": []
    },
    {
      "cell_type": "code",
      "metadata": {
        "id": "7Q8-pkKt9gUK"
      },
      "source": [
        "l1_feature_map_relu_pool = pooling(l1_feature_map_relu, 2, 2)"
      ],
      "execution_count": null,
      "outputs": []
    },
    {
      "cell_type": "code",
      "metadata": {
        "id": "bwUq4OY79iAu"
      },
      "source": [
        "def pooling(feature_map, size=2, stride=2):  \n",
        "    pool_out = numpy.zeros((numpy.uint16((feature_map.shape[0]-size+1)/stride),  \n",
        "                            numpy.uint16((feature_map.shape[1]-size+1)/stride),  \n",
        "                            feature_map.shape[-1]))  \n",
        "    for map_num in range(feature_map.shape[-1]):  \n",
        "        r2 = 0  \n",
        "        for r in numpy.arange(0,feature_map.shape[0]-size-1, stride):  \n",
        "            c2 = 0  \n",
        "            for c in numpy.arange(0, feature_map.shape[1]-size-1, stride):  \n",
        "                pool_out[r2, c2, map_num] = numpy.max(feature_map[r:r+size,  c:c+size])  \n",
        "                c2 = c2 + 1  \n",
        "                r2 = r2 +1 "
      ],
      "execution_count": null,
      "outputs": []
    },
    {
      "cell_type": "code",
      "metadata": {
        "id": "Zms4f4sK9kFA"
      },
      "source": [
        "l2_filter = numpy.random.rand(3, 5, 5, l1_feature_map_relu_pool.shape[-1])  \n",
        "l2_feature_map = conv(l1_feature_map_relu_pool, l2_filter)  \n",
        "l2_feature_map_relu = relu(l2_feature_map)  \n",
        "l2_feature_map_relu_pool = pooling(l2_feature_map_relu, 2, 2)  \n",
        "\n",
        "l3_filter = numpy.random.rand(1, 7, 7, l2_feature_map_relu_pool.shape[-1])  \n",
        "l3_feature_map = conv(l2_feature_map_relu_pool, l3_filter)  \n",
        "l3_feature_map_relu = relu(l3_feature_map)  \n",
        "l3_feature_map_relu_pool = pooling(l3_feature_map_relu, 2, 2)"
      ],
      "execution_count": null,
      "outputs": []
    },
    {
      "cell_type": "code",
      "metadata": {
        "id": "knViau6t9l6p"
      },
      "source": [
        ""
      ],
      "execution_count": null,
      "outputs": []
    }
  ]
}